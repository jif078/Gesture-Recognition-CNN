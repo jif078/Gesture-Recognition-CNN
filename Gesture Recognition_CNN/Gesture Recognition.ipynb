{
 "cells": [
  {
   "cell_type": "markdown",
   "metadata": {
    "collapsed": true
   },
   "source": [
    "<font color=gray size=5> Import Necessary Libraries </font>"
   ]
  },
  {
   "cell_type": "code",
   "execution_count": 1,
   "metadata": {
    "collapsed": true
   },
   "outputs": [],
   "source": [
    "import math\n",
    "import numpy as np\n",
    "import h5py\n",
    "import matplotlib.pyplot as plt\n",
    "import scipy\n",
    "from PIL import Image\n",
    "from scipy import ndimage\n",
    "import tensorflow as tf\n",
    "from tensorflow.python.framework import ops\n",
    "\n",
    "%matplotlib inline"
   ]
  },
  {
   "cell_type": "markdown",
   "metadata": {},
   "source": [
    "<font color=gray size=5> Take a look at set </font>"
   ]
  },
  {
   "cell_type": "code",
   "execution_count": 2,
   "metadata": {},
   "outputs": [
    {
     "name": "stdout",
     "output_type": "stream",
     "text": [
      "[u'list_classes' u'train_set_x' u'train_set_y']\n",
      "(1080,)\n"
     ]
    }
   ],
   "source": [
    "train_dataset = h5py.File('train_signs.h5', \"r\")\n",
    "print np.array(train_dataset)\n",
    "print np.array(train_dataset['train_set_y']).shape"
   ]
  },
  {
   "cell_type": "markdown",
   "metadata": {},
   "source": [
    "<font color=gray size=5> Load data set </font>"
   ]
  },
  {
   "cell_type": "code",
   "execution_count": 3,
   "metadata": {
    "collapsed": true
   },
   "outputs": [],
   "source": [
    "def load_dataset_my():\n",
    "    train = h5py.File('train_signs.h5','r')\n",
    "    train_x = np.array(train['train_set_x'][:])\n",
    "    train_y = np.array(train['train_set_y'][:])\n",
    "    \n",
    "    test = h5py.File('test_signs.h5','r')\n",
    "    test_x = np.array(test['test_set_x'][:])\n",
    "    test_y = np.array(test['test_set_y'][:])\n",
    "    \n",
    "    classes = np.array(test['list_classes'][:])\n",
    "    \n",
    "    train_y = train_y.reshape((1,train_y.shape[0]))\n",
    "    test_y = test_y.reshape((1,test_y.shape[0]))\n",
    "    \n",
    "    return train_x,train_y,test_x,test_y,classes"
   ]
  },
  {
   "cell_type": "code",
   "execution_count": 4,
   "metadata": {
    "collapsed": true
   },
   "outputs": [],
   "source": [
    "train_x,train_y,test_x,test_y,classes = load_dataset_my()"
   ]
  },
  {
   "cell_type": "code",
   "execution_count": 5,
   "metadata": {},
   "outputs": [
    {
     "name": "stdout",
     "output_type": "stream",
     "text": [
      "y = 2\n"
     ]
    },
    {
     "data": {
      "image/png": "[encoded data removed]",
      "text/plain": [
       "<matplotlib.figure.Figure at 0x10de950d0>"
      ]
     },
     "metadata": {},
     "output_type": "display_data"
    }
   ],
   "source": [
    "plt.imshow(train_x[10,:,:,:])\n",
    "print 'y = ' + str(np.squeeze(train_y[:,10]))"
   ]
  },
  {
   "cell_type": "markdown",
   "metadata": {
    "collapsed": true
   },
   "source": [
    "<font color=gray size=5>Lable -> One-hot</font>"
   ]
  },
  {
   "cell_type": "code",
   "execution_count": 6,
   "metadata": {
    "collapsed": true
   },
   "outputs": [],
   "source": [
    "def convert_to_onehot(Y,C):\n",
    "    Y = np.eye(C)[Y.reshape(-1)].T\n",
    "    return Y   "
   ]
  },
  {
   "cell_type": "code",
   "execution_count": 7,
   "metadata": {},
   "outputs": [
    {
     "name": "stdout",
     "output_type": "stream",
     "text": [
      "[[ 0  1  2  3]\n",
      " [ 4  5  6  7]\n",
      " [ 8  9 10 11]]\n"
     ]
    },
    {
     "data": {
      "text/plain": [
       "array([4, 5, 6, 7])"
      ]
     },
     "execution_count": 7,
     "metadata": {},
     "output_type": "execute_result"
    }
   ],
   "source": [
    "print np.arange(12).reshape((3,4))\n",
    "np.arange(12).reshape((3,4))[1]"
   ]
  },
  {
   "cell_type": "code",
   "execution_count": 8,
   "metadata": {
    "collapsed": true
   },
   "outputs": [],
   "source": [
    "X_train = train_x/255.\n",
    "X_test = test_x/255.\n",
    "Y_train = convert_to_onehot(train_y, 6).T\n",
    "Y_test = convert_to_onehot(test_y,6).T\n",
    "conv_layers = {}"
   ]
  },
  {
   "cell_type": "code",
   "execution_count": 9,
   "metadata": {},
   "outputs": [
    {
     "name": "stdout",
     "output_type": "stream",
     "text": [
      "number of training examples = 1080\n",
      "number of test examples = 120\n",
      "X_train shape: (1080, 64, 64, 3)\n",
      "Y_train shape: (1080, 6)\n",
      "X_test shape: (120, 64, 64, 3)\n",
      "Y_test shape: (120, 6)\n"
     ]
    }
   ],
   "source": [
    "print (\"number of training examples = \" + str(X_train.shape[0]))\n",
    "print (\"number of test examples = \" + str(X_test.shape[0]))\n",
    "print (\"X_train shape: \" + str(X_train.shape))\n",
    "print (\"Y_train shape: \" + str(Y_train.shape))\n",
    "print (\"X_test shape: \" + str(X_test.shape))\n",
    "print (\"Y_test shape: \" + str(Y_test.shape))"
   ]
  },
  {
   "cell_type": "markdown",
   "metadata": {
    "collapsed": true
   },
   "source": [
    "<font color=gray size=5>Create placeholders</font>"
   ]
  },
  {
   "cell_type": "code",
   "execution_count": 10,
   "metadata": {
    "collapsed": true
   },
   "outputs": [],
   "source": [
    "def create_placeholders(n_H0,n_W0,n_C0,n_y):\n",
    "    X = tf.placeholder(tf.float32,shape=(None,n_H0,n_W0,n_C0))\n",
    "    Y = tf.placeholder(tf.float32,shape=(None,n_y))\n",
    "    return X,Y"
   ]
  },
  {
   "cell_type": "markdown",
   "metadata": {
    "collapsed": true
   },
   "source": [
    "<font color=gray size=5>Initialize trainable parameters</font>"
   ]
  },
  {
   "cell_type": "code",
   "execution_count": 11,
   "metadata": {
    "collapsed": true
   },
   "outputs": [],
   "source": [
    "def initialize_parameters():\n",
    "    W1 = tf.get_variable('W1',[4,4,3,8],initializer=tf.contrib.layers.xavier_initializer())\n",
    "    W2 = tf.get_variable('W2',[2,2,8,16],initializer=tf.contrib.layers.xavier_initializer())\n",
    "    parameters = {'W1':W1,'W2':W2}\n",
    "    return parameters"
   ]
  },
  {
   "cell_type": "markdown",
   "metadata": {
    "collapsed": true
   },
   "source": [
    "<font color=gray size=5>Define model</font>"
   ]
  },
  {
   "cell_type": "markdown",
   "metadata": {
    "collapsed": true
   },
   "source": [
    "<font color=gray size=5>\n",
    "Conv2D: stride 1, padding is \"SAME\" <br>\n",
    "ReLU<br>\n",
    "Max pool: Use an 8 by 8 filter size and an 8 by 8 stride, padding is \"SAME\"<br>\n",
    "Conv2D: stride 1, padding is \"SAME\"<br>\n",
    "ReLU<br>\n",
    "Max pool: Use a 4 by 4 filter size and a 4 by 4 stride, padding is \"SAME\"<br>\n",
    "Flatten the previous output.<br>\n",
    "FULLYCONNECTED (FC) layer<br>\n",
    "</font>"
   ]
  },
  {
   "cell_type": "code",
   "execution_count": 12,
   "metadata": {
    "collapsed": true
   },
   "outputs": [],
   "source": [
    "def forward_propagation(X,parameters):\n",
    "    W1 = parameters['W1']\n",
    "    W2 = parameters['W2']\n",
    "    \n",
    "    Z1 = tf.nn.conv2d(X,W1,strides=[1,1,1,1],padding='SAME')\n",
    "    A1 = tf.nn.relu(Z1)\n",
    "    P1 = tf.nn.max_pool(A1,ksize=[1,8,8,1],strides=[1,8,8,1],padding='SAME')\n",
    "    \n",
    "    Z2 = tf.nn.conv2d(P1,W2,strides=[1,1,1,1],padding='SAME')\n",
    "    A2 = tf.nn.relu(Z2)\n",
    "    P2 = tf.nn.max_pool(A2,ksize=[1,4,4,1],strides=[1,4,4,1],padding='SAME')\n",
    "    \n",
    "    P2 = tf.contrib.layers.flatten(P2)\n",
    "    \n",
    "    Z3 = tf.contrib.layers.fully_connected(P2,6,activation_fn=None)\n",
    "    \n",
    "    return Z3    "
   ]
  },
  {
   "cell_type": "markdown",
   "metadata": {
    "collapsed": true
   },
   "source": [
    "<font color=gray size=5>Define cost</font>"
   ]
  },
  {
   "cell_type": "code",
   "execution_count": 14,
   "metadata": {
    "collapsed": true
   },
   "outputs": [],
   "source": [
    "def compute_cost(Z3,Y):\n",
    "    cost = tf.reduce_mean(tf.nn.softmax_cross_entropy_with_logits(logits=Z3,labels=Y))\n",
    "    return cost"
   ]
  },
  {
   "cell_type": "markdown",
   "metadata": {
    "collapsed": true
   },
   "source": [
    "<font color=gray size=5>Randomly create minibatches</font>"
   ]
  },
  {
   "cell_type": "code",
   "execution_count": 16,
   "metadata": {
    "collapsed": true
   },
   "outputs": [],
   "source": [
    "def random_mini_batches(X,Y,minibatch_size=64):\n",
    "    m=X.shape[0]\n",
    "    mini_batches=[]\n",
    "    #shuffle\n",
    "    P=list(np.random.permutation(m))\n",
    "    shuffled_X=X[P,:,:,:]\n",
    "    shuffled_Y=Y[P,:]\n",
    "    #split\n",
    "    for k in range(int(math.floor(m/minibatch_size))):\n",
    "        mini_batch_X = shuffled_X[minibatch_size*k:minibatch_size*(k+1),:,:,:]\n",
    "        mini_batch_Y = shuffled_Y[minibatch_size*k:minibatch_size*(k+1),:]\n",
    "        mini_batch=(mini_batch_X,mini_batch_Y)\n",
    "        mini_batches.append(mini_batch)\n",
    "    if m % minibatch_size != 0:\n",
    "        mini_batch_X = shuffled_X[minibatch_size*(k+1):,:,:,:]\n",
    "        mini_batch_Y = shuffled_Y[minibatch_size*(k+1):,:]\n",
    "        mini_batch=(mini_batch_X,mini_batch_Y)\n",
    "        mini_batches.append(mini_batch)\n",
    "    return mini_batches"
   ]
  },
  {
   "cell_type": "markdown",
   "metadata": {
    "collapsed": true
   },
   "source": [
    "<font color=gray size=5>Run</font>"
   ]
  },
  {
   "cell_type": "code",
   "execution_count": 17,
   "metadata": {
    "collapsed": true
   },
   "outputs": [],
   "source": [
    "def model(X_train,Y_train,X_test,Y_test,learning_rate=0.009,minibatch_size=64,num_epochs=100,Print=True):\n",
    "    tf.reset_default_graph()\n",
    "    (m,n_H0,n_W0,n_C0)=X_train.shape\n",
    "    n_y=Y_train.shape[1]\n",
    "    costs=[]\n",
    "    \n",
    "    X,Y=create_placeholders(n_H0,n_W0,n_C0,n_y)\n",
    "    parameters=initialize_parameters()\n",
    "    Z3=forward_propagation(X,parameters)\n",
    "    cost=compute_cost(Z3,Y)\n",
    "    optimizer=tf.train.AdamOptimizer(learning_rate=learning_rate).minimize(cost)\n",
    "    \n",
    "    init=tf.global_variables_initializer()\n",
    "    \n",
    "    with tf.Session() as sess:\n",
    "        sess.run(init)\n",
    "        \n",
    "        for epoch in range(num_epochs):\n",
    "            minibatch_cost=0.\n",
    "            num_minibatches=int(m/minibatch_size)\n",
    "            minibatches=random_mini_batches(X_train,Y_train,minibatch_size)\n",
    "            \n",
    "            for minibatch in minibatches:\n",
    "                (minibatch_X,minibatch_Y)=minibatch\n",
    "                _ , temp_cost = sess.run([optimizer,cost],feed_dict={X:minibatch_X,Y:minibatch_Y})\n",
    "                minibatch_cost += temp_cost/num_minibatches\n",
    "                \n",
    "            if Print and epoch % 5 ==0:\n",
    "                print epoch,minibatch_cost\n",
    "            \n",
    "            costs.append(minibatch_cost)\n",
    "        #    \n",
    "        plt.plot(np.squeeze(costs))\n",
    "        plt.ylabel('cost')\n",
    "        plt.xlabel('iterations (per tens)')\n",
    "        plt.title(\"Learning rate =\" + str(learning_rate))\n",
    "        plt.show()\n",
    "        #\n",
    "        predict_op = tf.argmax(Z3,1)\n",
    "        correct_op = tf.equal(predict_op,tf.argmax(Y,1)) \n",
    "        \n",
    "        Accuracy = tf.reduce_mean(tf.cast(correct_op,'float'))\n",
    "        print Accuracy\n",
    "        \n",
    "        Train_acc = Accuracy.eval({X: X_train, Y: Y_train})\n",
    "        Test_acc = Accuracy.eval({X: X_test, Y: Y_test})\n",
    "        print(\"Train Accuracy:\", Train_acc)\n",
    "        print(\"Test Accuracy:\", Test_acc)\n",
    "                \n",
    "        return Train_acc, Test_acc, parameters\n",
    "    \n",
    "    "
   ]
  },
  {
   "cell_type": "code",
   "execution_count": 18,
   "metadata": {},
   "outputs": [
    {
     "name": "stdout",
     "output_type": "stream",
     "text": [
      "0 1.9101266712\n",
      "5 1.69123950601\n",
      "10 1.29251982272\n",
      "15 1.16193010658\n",
      "20 1.00655050948\n",
      "25 0.936567794532\n",
      "30 0.843614902347\n",
      "35 0.799633141607\n",
      "40 0.763278353959\n",
      "45 0.748226009309\n",
      "50 0.664053756744\n",
      "55 0.616929883137\n",
      "60 0.607394229621\n",
      "65 0.585365599021\n",
      "70 0.588023912162\n",
      "75 0.622934674844\n",
      "80 0.62246234715\n",
      "85 0.519499070942\n",
      "90 0.483531083912\n",
      "95 0.46646746248\n",
      "100 0.439361006953\n",
      "105 0.460040688515\n",
      "110 0.519738441333\n",
      "115 0.436620693654\n",
      "120 0.405171018094\n",
      "125 0.427923144773\n",
      "130 0.392739809118\n",
      "135 0.422709055245\n",
      "140 0.406304327771\n",
      "145 0.395105692558\n",
      "150 0.415036036633\n",
      "155 0.389879175462\n",
      "160 0.351677954197\n",
      "165 0.367208481766\n",
      "170 0.336361470632\n",
      "175 0.328760040924\n",
      "180 0.368848279119\n",
      "185 0.408874556422\n",
      "190 0.324499025941\n",
      "195 0.303653088398\n"
     ]
    },
    {
     "data": {
      "image/png": "[encoded data removed]",
      "text/plain": [
       "<matplotlib.figure.Figure at 0x1a2e6d08d0>"
      ]
     },
     "metadata": {},
     "output_type": "display_data"
    },
    {
     "name": "stdout",
     "output_type": "stream",
     "text": [
      "Tensor(\"Mean_1:0\", shape=(), dtype=float32)\n",
      "('Train Accuracy:', 0.88333333)\n",
      "('Test Accuracy:', 0.75)\n"
     ]
    }
   ],
   "source": [
    "Train_acc, Test_acc, parameters=model(X_train,Y_train,X_test,Y_test,num_epochs=200)"
   ]
  },
  {
   "cell_type": "code",
   "execution_count": 19,
   "metadata": {},
   "outputs": [
    {
     "data": {
      "text/plain": [
       "<matplotlib.image.AxesImage at 0x181ab31e50>"
      ]
     },
     "execution_count": 19,
     "metadata": {},
     "output_type": "execute_result"
    },
    {
     "data": {
      "image/png": "[encoded data removed]",
      "text/plain": [
       "<matplotlib.figure.Figure at 0x182611e290>"
      ]
     },
     "metadata": {},
     "output_type": "display_data"
    }
   ],
   "source": [
    "fname = \"test3.jpg\"\n",
    "image = np.array(ndimage.imread(fname, flatten=False))\n",
    "my_image = scipy.misc.imresize(image, size=(64,64))\n",
    "plt.imshow(my_image)"
   ]
  },
  {
   "cell_type": "code",
   "execution_count": 20,
   "metadata": {
    "collapsed": true
   },
   "outputs": [],
   "source": [
    "X=np.reshape(my_image,(1,64,64,3))\n",
    "X_test = X/255.\n",
    "Y_test = np.array([0,0,0,1,0,0])"
   ]
  },
  {
   "cell_type": "code",
   "execution_count": 21,
   "metadata": {},
   "outputs": [
    {
     "data": {
      "text/plain": [
       "(1, 6)"
      ]
     },
     "execution_count": 21,
     "metadata": {},
     "output_type": "execute_result"
    }
   ],
   "source": [
    "Y_test = np.reshape(Y_test,(1,6))\n",
    "X_test.shape\n",
    "Y_test.shape"
   ]
  },
  {
   "cell_type": "code",
   "execution_count": null,
   "metadata": {},
   "outputs": [],
   "source": [
    "Train_acc, Test_acc, parameters=model(X_train,Y_train,X_test,Y_test,num_epochs=100)\n"
   ]
  },
  {
   "cell_type": "code",
   "execution_count": null,
   "metadata": {
    "collapsed": true
   },
   "outputs": [],
   "source": []
  }
 ],
 "metadata": {
  "kernelspec": {
   "display_name": "Python 2",
   "language": "python",
   "name": "python2"
  },
  "language_info": {
   "codemirror_mode": {
    "name": "ipython",
    "version": 2
   },
   "file_extension": ".py",
   "mimetype": "text/x-python",
   "name": "python",
   "nbconvert_exporter": "python",
   "pygments_lexer": "ipython2",
   "version": "2.7.14"
  }
 },
 "nbformat": 4,
 "nbformat_minor": 2
}
